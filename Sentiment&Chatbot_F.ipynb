{
 "cells": [
  {
   "cell_type": "code",
   "execution_count": 5,
   "id": "7c8f8e09-1f23-46ab-bdbe-a45689e57dba",
   "metadata": {},
   "outputs": [
    {
     "data": {
      "text/html": [
       "<div>\n",
       "<style scoped>\n",
       "    .dataframe tbody tr th:only-of-type {\n",
       "        vertical-align: middle;\n",
       "    }\n",
       "\n",
       "    .dataframe tbody tr th {\n",
       "        vertical-align: top;\n",
       "    }\n",
       "\n",
       "    .dataframe thead th {\n",
       "        text-align: right;\n",
       "    }\n",
       "</style>\n",
       "<table border=\"1\" class=\"dataframe\">\n",
       "  <thead>\n",
       "    <tr style=\"text-align: right;\">\n",
       "      <th></th>\n",
       "      <th>Rating</th>\n",
       "      <th>Review_Text</th>\n",
       "    </tr>\n",
       "  </thead>\n",
       "  <tbody>\n",
       "    <tr>\n",
       "      <th>0</th>\n",
       "      <td>4</td>\n",
       "      <td>Transparent policies and fair terms</td>\n",
       "    </tr>\n",
       "    <tr>\n",
       "      <th>1</th>\n",
       "      <td>5</td>\n",
       "      <td>Hassle-free renewal process and great guidance</td>\n",
       "    </tr>\n",
       "    <tr>\n",
       "      <th>2</th>\n",
       "      <td>2</td>\n",
       "      <td>Hard to reach support team and poor response</td>\n",
       "    </tr>\n",
       "    <tr>\n",
       "      <th>3</th>\n",
       "      <td>3</td>\n",
       "      <td>Expected a bit more from the customer service</td>\n",
       "    </tr>\n",
       "    <tr>\n",
       "      <th>4</th>\n",
       "      <td>5</td>\n",
       "      <td>Got extra coverage at a discounted price</td>\n",
       "    </tr>\n",
       "    <tr>\n",
       "      <th>...</th>\n",
       "      <td>...</td>\n",
       "      <td>...</td>\n",
       "    </tr>\n",
       "    <tr>\n",
       "      <th>95</th>\n",
       "      <td>4</td>\n",
       "      <td>Very satisfied with the overall experience</td>\n",
       "    </tr>\n",
       "    <tr>\n",
       "      <th>96</th>\n",
       "      <td>4</td>\n",
       "      <td>Easy to file a claim, very smooth process</td>\n",
       "    </tr>\n",
       "    <tr>\n",
       "      <th>97</th>\n",
       "      <td>3</td>\n",
       "      <td>Expected a bit more from the customer service</td>\n",
       "    </tr>\n",
       "    <tr>\n",
       "      <th>98</th>\n",
       "      <td>3</td>\n",
       "      <td>Average experience nothing special</td>\n",
       "    </tr>\n",
       "    <tr>\n",
       "      <th>99</th>\n",
       "      <td>5</td>\n",
       "      <td>Got extra coverage at a discounted price</td>\n",
       "    </tr>\n",
       "  </tbody>\n",
       "</table>\n",
       "<p>100 rows × 2 columns</p>\n",
       "</div>"
      ],
      "text/plain": [
       "    Rating                                     Review_Text\n",
       "0        4             Transparent policies and fair terms\n",
       "1        5  Hassle-free renewal process and great guidance\n",
       "2        2    Hard to reach support team and poor response\n",
       "3        3   Expected a bit more from the customer service\n",
       "4        5        Got extra coverage at a discounted price\n",
       "..     ...                                             ...\n",
       "95       4      Very satisfied with the overall experience\n",
       "96       4       Easy to file a claim, very smooth process\n",
       "97       3   Expected a bit more from the customer service\n",
       "98       3              Average experience nothing special\n",
       "99       5        Got extra coverage at a discounted price\n",
       "\n",
       "[100 rows x 2 columns]"
      ]
     },
     "execution_count": 5,
     "metadata": {},
     "output_type": "execute_result"
    }
   ],
   "source": [
    "import pandas as pd\n",
    "df=pd.read_csv(\"insurance_reviews.csv\")\n",
    "df"
   ]
  },
  {
   "cell_type": "code",
   "execution_count": 3,
   "id": "acd16589-5d50-4940-8ed5-d107baf82938",
   "metadata": {},
   "outputs": [
    {
     "name": "stderr",
     "output_type": "stream",
     "text": [
      "[nltk_data] Downloading package stopwords to\n",
      "[nltk_data]     C:\\Users\\SukilPriya\\AppData\\Roaming\\nltk_data...\n",
      "[nltk_data]   Package stopwords is already up-to-date!\n",
      "[nltk_data] Downloading package punkt to\n",
      "[nltk_data]     C:\\Users\\SukilPriya\\AppData\\Roaming\\nltk_data...\n",
      "[nltk_data]   Package punkt is already up-to-date!\n",
      "[nltk_data] Downloading package wordnet to\n",
      "[nltk_data]     C:\\Users\\SukilPriya\\AppData\\Roaming\\nltk_data...\n",
      "[nltk_data]   Package wordnet is already up-to-date!\n",
      "[nltk_data] Downloading package punkt_tab to\n",
      "[nltk_data]     C:\\Users\\SukilPriya\\AppData\\Roaming\\nltk_data...\n",
      "[nltk_data]   Package punkt_tab is already up-to-date!\n"
     ]
    },
    {
     "data": {
      "text/plain": [
       "True"
      ]
     },
     "execution_count": 3,
     "metadata": {},
     "output_type": "execute_result"
    }
   ],
   "source": [
    "import pandas as pd\n",
    "import re\n",
    "import nltk\n",
    "from nltk.corpus import stopwords\n",
    "from nltk.tokenize import word_tokenize\n",
    "from nltk.stem import WordNetLemmatizer\n",
    "from sklearn.feature_extraction.text import CountVectorizer\n",
    "from sklearn.model_selection import train_test_split\n",
    "from sklearn.naive_bayes import MultinomialNB\n",
    "from sklearn.metrics import accuracy_score\n",
    "nltk.download('stopwords')\n",
    "nltk.download('punkt')\n",
    "nltk.download('wordnet')\n",
    "nltk.download('punkt_tab')"
   ]
  },
  {
   "cell_type": "code",
   "execution_count": 7,
   "id": "bf00857b-300e-4c19-9900-a2056ac9ee06",
   "metadata": {},
   "outputs": [],
   "source": [
    "# Load the dataset\n",
    "df=pd.read_csv(\"insurance_reviews.csv\")\n",
    "\n",
    "# Assign sentiment labels based on ratings\n",
    "def assign(Rating):\n",
    "    if Rating == 1 or Rating == 2:\n",
    "        return \"Negative\"\n",
    "    elif Rating == 3:\n",
    "        return \"Neutral\"\n",
    "    else:\n",
    "        return \"Positive\"\n",
    "\n",
    "df['Sentimentlabel'] = df['Rating'].apply(assign)\n",
    "\n",
    "# Keep relevant columns\n",
    "df = df[[\"Review_Text\", \"Sentimentlabel\"]]"
   ]
  },
  {
   "cell_type": "code",
   "execution_count": 9,
   "id": "185efe64-c1a1-4282-9241-f036ec0ba8ff",
   "metadata": {},
   "outputs": [
    {
     "data": {
      "text/html": [
       "<div>\n",
       "<style scoped>\n",
       "    .dataframe tbody tr th:only-of-type {\n",
       "        vertical-align: middle;\n",
       "    }\n",
       "\n",
       "    .dataframe tbody tr th {\n",
       "        vertical-align: top;\n",
       "    }\n",
       "\n",
       "    .dataframe thead th {\n",
       "        text-align: right;\n",
       "    }\n",
       "</style>\n",
       "<table border=\"1\" class=\"dataframe\">\n",
       "  <thead>\n",
       "    <tr style=\"text-align: right;\">\n",
       "      <th></th>\n",
       "      <th>Review_Text</th>\n",
       "      <th>Sentimentlabel</th>\n",
       "    </tr>\n",
       "  </thead>\n",
       "  <tbody>\n",
       "    <tr>\n",
       "      <th>0</th>\n",
       "      <td>Transparent policies and fair terms</td>\n",
       "      <td>Positive</td>\n",
       "    </tr>\n",
       "    <tr>\n",
       "      <th>1</th>\n",
       "      <td>Hassle-free renewal process and great guidance</td>\n",
       "      <td>Positive</td>\n",
       "    </tr>\n",
       "    <tr>\n",
       "      <th>2</th>\n",
       "      <td>Hard to reach support team and poor response</td>\n",
       "      <td>Negative</td>\n",
       "    </tr>\n",
       "    <tr>\n",
       "      <th>3</th>\n",
       "      <td>Expected a bit more from the customer service</td>\n",
       "      <td>Neutral</td>\n",
       "    </tr>\n",
       "    <tr>\n",
       "      <th>4</th>\n",
       "      <td>Got extra coverage at a discounted price</td>\n",
       "      <td>Positive</td>\n",
       "    </tr>\n",
       "    <tr>\n",
       "      <th>...</th>\n",
       "      <td>...</td>\n",
       "      <td>...</td>\n",
       "    </tr>\n",
       "    <tr>\n",
       "      <th>95</th>\n",
       "      <td>Very satisfied with the overall experience</td>\n",
       "      <td>Positive</td>\n",
       "    </tr>\n",
       "    <tr>\n",
       "      <th>96</th>\n",
       "      <td>Easy to file a claim, very smooth process</td>\n",
       "      <td>Positive</td>\n",
       "    </tr>\n",
       "    <tr>\n",
       "      <th>97</th>\n",
       "      <td>Expected a bit more from the customer service</td>\n",
       "      <td>Neutral</td>\n",
       "    </tr>\n",
       "    <tr>\n",
       "      <th>98</th>\n",
       "      <td>Average experience nothing special</td>\n",
       "      <td>Neutral</td>\n",
       "    </tr>\n",
       "    <tr>\n",
       "      <th>99</th>\n",
       "      <td>Got extra coverage at a discounted price</td>\n",
       "      <td>Positive</td>\n",
       "    </tr>\n",
       "  </tbody>\n",
       "</table>\n",
       "<p>100 rows × 2 columns</p>\n",
       "</div>"
      ],
      "text/plain": [
       "                                       Review_Text Sentimentlabel\n",
       "0              Transparent policies and fair terms       Positive\n",
       "1   Hassle-free renewal process and great guidance       Positive\n",
       "2     Hard to reach support team and poor response       Negative\n",
       "3    Expected a bit more from the customer service        Neutral\n",
       "4         Got extra coverage at a discounted price       Positive\n",
       "..                                             ...            ...\n",
       "95      Very satisfied with the overall experience       Positive\n",
       "96       Easy to file a claim, very smooth process       Positive\n",
       "97   Expected a bit more from the customer service        Neutral\n",
       "98              Average experience nothing special        Neutral\n",
       "99        Got extra coverage at a discounted price       Positive\n",
       "\n",
       "[100 rows x 2 columns]"
      ]
     },
     "execution_count": 9,
     "metadata": {},
     "output_type": "execute_result"
    }
   ],
   "source": [
    "df"
   ]
  },
  {
   "cell_type": "code",
   "execution_count": 11,
   "id": "d0b95d04-355c-4f6c-9af1-a72cc6b284c4",
   "metadata": {},
   "outputs": [],
   "source": [
    "# Initialize stopwords and lemmatizer\n",
    "stop_words = set(stopwords.words('english'))\n",
    "lemma = WordNetLemmatizer()\n",
    "\n",
    "# Define text cleaning function\n",
    "def clean(text):\n",
    "    if text is None:\n",
    "        return ''\n",
    "    text = re.sub(r'https?://\\S+', '', text)\n",
    "    text = re.sub('[^a-zA-Z]', ' ', text)\n",
    "    text = text.lower()\n",
    "    text = word_tokenize(text)\n",
    "    text = [lemma.lemmatize(word, pos='v') for word in text if word not in stop_words and len(word) > 2]\n",
    "    return ' '.join(text)\n",
    "\n",
    "# Apply cleaning\n",
    "df['customerfeedback'] = df['Review_Text'].apply(clean)\n",
    "df = df.drop('Review_Text', axis=1)\n"
   ]
  },
  {
   "cell_type": "code",
   "execution_count": 13,
   "id": "392205fa-7dbb-463d-a36f-0512edff0bb6",
   "metadata": {},
   "outputs": [
    {
     "data": {
      "text/html": [
       "<div>\n",
       "<style scoped>\n",
       "    .dataframe tbody tr th:only-of-type {\n",
       "        vertical-align: middle;\n",
       "    }\n",
       "\n",
       "    .dataframe tbody tr th {\n",
       "        vertical-align: top;\n",
       "    }\n",
       "\n",
       "    .dataframe thead th {\n",
       "        text-align: right;\n",
       "    }\n",
       "</style>\n",
       "<table border=\"1\" class=\"dataframe\">\n",
       "  <thead>\n",
       "    <tr style=\"text-align: right;\">\n",
       "      <th></th>\n",
       "      <th>Sentimentlabel</th>\n",
       "      <th>customerfeedback</th>\n",
       "    </tr>\n",
       "  </thead>\n",
       "  <tbody>\n",
       "    <tr>\n",
       "      <th>0</th>\n",
       "      <td>Positive</td>\n",
       "      <td>transparent policies fair term</td>\n",
       "    </tr>\n",
       "    <tr>\n",
       "      <th>1</th>\n",
       "      <td>Positive</td>\n",
       "      <td>hassle free renewal process great guidance</td>\n",
       "    </tr>\n",
       "    <tr>\n",
       "      <th>2</th>\n",
       "      <td>Negative</td>\n",
       "      <td>hard reach support team poor response</td>\n",
       "    </tr>\n",
       "    <tr>\n",
       "      <th>3</th>\n",
       "      <td>Neutral</td>\n",
       "      <td>expect bite customer service</td>\n",
       "    </tr>\n",
       "    <tr>\n",
       "      <th>4</th>\n",
       "      <td>Positive</td>\n",
       "      <td>get extra coverage discount price</td>\n",
       "    </tr>\n",
       "    <tr>\n",
       "      <th>...</th>\n",
       "      <td>...</td>\n",
       "      <td>...</td>\n",
       "    </tr>\n",
       "    <tr>\n",
       "      <th>95</th>\n",
       "      <td>Positive</td>\n",
       "      <td>satisfy overall experience</td>\n",
       "    </tr>\n",
       "    <tr>\n",
       "      <th>96</th>\n",
       "      <td>Positive</td>\n",
       "      <td>easy file claim smooth process</td>\n",
       "    </tr>\n",
       "    <tr>\n",
       "      <th>97</th>\n",
       "      <td>Neutral</td>\n",
       "      <td>expect bite customer service</td>\n",
       "    </tr>\n",
       "    <tr>\n",
       "      <th>98</th>\n",
       "      <td>Neutral</td>\n",
       "      <td>average experience nothing special</td>\n",
       "    </tr>\n",
       "    <tr>\n",
       "      <th>99</th>\n",
       "      <td>Positive</td>\n",
       "      <td>get extra coverage discount price</td>\n",
       "    </tr>\n",
       "  </tbody>\n",
       "</table>\n",
       "<p>100 rows × 2 columns</p>\n",
       "</div>"
      ],
      "text/plain": [
       "   Sentimentlabel                            customerfeedback\n",
       "0        Positive              transparent policies fair term\n",
       "1        Positive  hassle free renewal process great guidance\n",
       "2        Negative       hard reach support team poor response\n",
       "3         Neutral                expect bite customer service\n",
       "4        Positive           get extra coverage discount price\n",
       "..            ...                                         ...\n",
       "95       Positive                  satisfy overall experience\n",
       "96       Positive              easy file claim smooth process\n",
       "97        Neutral                expect bite customer service\n",
       "98        Neutral          average experience nothing special\n",
       "99       Positive           get extra coverage discount price\n",
       "\n",
       "[100 rows x 2 columns]"
      ]
     },
     "execution_count": 13,
     "metadata": {},
     "output_type": "execute_result"
    }
   ],
   "source": [
    "df"
   ]
  },
  {
   "cell_type": "code",
   "execution_count": 15,
   "id": "7a90f31d-3927-40b8-9fe6-9801c27da9ca",
   "metadata": {},
   "outputs": [
    {
     "name": "stdout",
     "output_type": "stream",
     "text": [
      "✅ Model Accuracy: 1.0\n"
     ]
    }
   ],
   "source": [
    "# Convert text to vectors\n",
    "vectorizer = CountVectorizer()\n",
    "X = vectorizer.fit_transform(df['customerfeedback'])\n",
    "y = df['Sentimentlabel']\n",
    "\n",
    "# Split data into training/testing\n",
    "X_train, X_test, y_train, y_test = train_test_split(X, y, test_size=0.2, random_state=42)\n",
    "\n",
    "# Train model\n",
    "model = MultinomialNB()\n",
    "model.fit(X_train, y_train)\n",
    "\n",
    "# Predict on test set\n",
    "y_pred = model.predict(X_test)\n",
    "\n",
    "# Accuracy\n",
    "print(\"✅ Model Accuracy:\", accuracy_score(y_test, y_pred))\n"
   ]
  },
  {
   "cell_type": "code",
   "execution_count": 19,
   "id": "ebeb8cb4-60cc-4916-ad9b-fde784ce9a07",
   "metadata": {},
   "outputs": [
    {
     "name": "stdin",
     "output_type": "stream",
     "text": [
      "💬 Enter customer feedback (or type 'exit' to stop):  Received reimbursement quickly after hospitalization\n"
     ]
    },
    {
     "name": "stdout",
     "output_type": "stream",
     "text": [
      "🔍 Predicted Sentiment: Positive\n"
     ]
    },
    {
     "name": "stdin",
     "output_type": "stream",
     "text": [
      "💬 Enter customer feedback (or type 'exit' to stop):  Renewal reminders were sent on time\n"
     ]
    },
    {
     "name": "stdout",
     "output_type": "stream",
     "text": [
      "🔍 Predicted Sentiment: Neutral\n"
     ]
    },
    {
     "name": "stdin",
     "output_type": "stream",
     "text": [
      "💬 Enter customer feedback (or type 'exit' to stop):  Difficult to cancel the policy\n"
     ]
    },
    {
     "name": "stdout",
     "output_type": "stream",
     "text": [
      "🔍 Predicted Sentiment: Negative\n"
     ]
    },
    {
     "name": "stdin",
     "output_type": "stream",
     "text": [
      "💬 Enter customer feedback (or type 'exit' to stop):  exit\n"
     ]
    }
   ],
   "source": [
    "# Function to predict sentiment from user input\n",
    "def predict_sentiment(user_input):\n",
    "    processed_text = clean(user_input)\n",
    "    vectorized_text = vectorizer.transform([processed_text])\n",
    "    sentiment = model.predict(vectorized_text)[0]\n",
    "    return sentiment\n",
    "\n",
    "# Loop for user input\n",
    "while True:\n",
    "    user_input = input(\"💬 Enter customer feedback (or type 'exit' to stop): \")\n",
    "    if user_input.lower() == 'exit':\n",
    "        break\n",
    "    print(\"🔍 Predicted Sentiment:\", predict_sentiment(user_input))\n"
   ]
  },
  {
   "cell_type": "code",
   "execution_count": 3,
   "id": "88d5c13f-7a4a-4111-998c-d4b27cc5773c",
   "metadata": {},
   "outputs": [
    {
     "name": "stdout",
     "output_type": "stream",
     "text": [
      "\n",
      "Text Summarization:\n",
      "insurance provides financial protection against unforeseen events. policyholders pay regular premiums in exchange for coverage. insurance plays a vital role in personal financial planning and risk management.\n"
     ]
    }
   ],
   "source": [
    "from transformers import AutoModelForSeq2SeqLM, AutoTokenizer\n",
    "\n",
    "# Load summarization model and tokenizer\n",
    "summarizer_model_name = \"t5-small\"\n",
    "summarizer_tokenizer = AutoTokenizer.from_pretrained(summarizer_model_name)\n",
    "summarizer_model = AutoModelForSeq2SeqLM.from_pretrained(summarizer_model_name)\n",
    "\n",
    "# Long text to summarize\n",
    "long_text = \"\"\"\n",
    "Insurance provides financial protection against unforeseen events by transferring risk from an individual or business to an insurance company. \n",
    "Whether it's health, auto, home, or life insurance, the primary goal is to reduce the financial burden in case of accidents, illness, natural disasters, or death. \n",
    "Policyholders pay regular premiums in exchange for coverage, and when a covered event occurs, the insurer compensates for the loss as per the terms of the policy. \n",
    "By offering peace of mind and stability, insurance plays a vital role in personal financial planning and risk management for businesses.\n",
    "\"\"\"\n",
    "\n",
    "# Tokenize and summarize text\n",
    "inputs = summarizer_tokenizer(\"summarize: \" + long_text, return_tensors=\"pt\", max_length=512, truncation=True)\n",
    "summary_ids = summarizer_model.generate(inputs[\"input_ids\"], max_length=50, min_length=10, length_penalty=2.0, num_beams=4)\n",
    "summary = summarizer_tokenizer.decode(summary_ids[0], skip_special_tokens=True)\n",
    "\n",
    "print(\"\\nText Summarization:\")\n",
    "print(summary)"
   ]
  },
  {
   "cell_type": "code",
   "execution_count": null,
   "id": "85ed8c20-60f6-42bd-93c8-6f95696dac78",
   "metadata": {},
   "outputs": [],
   "source": []
  }
 ],
 "metadata": {
  "kernelspec": {
   "display_name": "Python [conda env:base] *",
   "language": "python",
   "name": "conda-base-py"
  },
  "language_info": {
   "codemirror_mode": {
    "name": "ipython",
    "version": 3
   },
   "file_extension": ".py",
   "mimetype": "text/x-python",
   "name": "python",
   "nbconvert_exporter": "python",
   "pygments_lexer": "ipython3",
   "version": "3.12.7"
  }
 },
 "nbformat": 4,
 "nbformat_minor": 5
}
